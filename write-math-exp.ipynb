{
 "cells": [
  {
   "cell_type": "markdown",
   "id": "d15553fa-ce10-4f88-aef7-f5f3f5362be4",
   "metadata": {},
   "source": [
    "### Writing inline expressions"
   ]
  },
  {
   "cell_type": "markdown",
   "id": "01ec0e77-a80f-4dd1-8b5f-6a26406665c3",
   "metadata": {},
   "source": [
    "There are two options for delimiting a math expression inline with your text. You can<br> either surround the expression with dollar symbols ($), \n",
    "\n",
    "    or start the expression with ($`) and end it with (`$)\n",
    "\n",
    "The latter syntax is useful when the expression you are writing contains characters<br> that overlap with markdown syntax."
   ]
  },
  {
   "cell_type": "markdown",
   "id": "dffc46cc-de5d-47b0-90fa-71edb2e61492",
   "metadata": {},
   "source": [
    "This sentance uses `$` delimiters to show math inline: $\\sqrt{3x-1}+(1+x)^2$"
   ]
  },
  {
   "cell_type": "markdown",
   "id": "fe62b4fe-e907-4a24-8de5-c494903d8e98",
   "metadata": {},
   "source": [
    "This sentence uses $\\` and \\`$ delimiters to show math inline:  $`\\sqrt{3x-1}+(1+x)^2`$"
   ]
  },
  {
   "cell_type": "code",
   "execution_count": null,
   "id": "b8d77ac8-f7ec-47f6-98e7-34889702b7ed",
   "metadata": {},
   "outputs": [],
   "source": []
  }
 ],
 "metadata": {
  "kernelspec": {
   "display_name": "Python 3 (ipykernel)",
   "language": "python",
   "name": "python3"
  },
  "language_info": {
   "codemirror_mode": {
    "name": "ipython",
    "version": 3
   },
   "file_extension": ".py",
   "mimetype": "text/x-python",
   "name": "python",
   "nbconvert_exporter": "python",
   "pygments_lexer": "ipython3",
   "version": "3.10.9"
  }
 },
 "nbformat": 4,
 "nbformat_minor": 5
}
