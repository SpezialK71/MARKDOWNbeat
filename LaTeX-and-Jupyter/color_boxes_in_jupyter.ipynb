{
 "cells": [
  {
   "cell_type": "markdown",
   "id": "15b3645f-0e70-4d96-a8ac-e383eb89e0d0",
   "metadata": {},
   "source": [
    "<DIV align=\"right\">\n",
    " $\\tiny\\lll( \\big( \\Big( \\bigg( \\Bigg( \\Bbbk\\mathsf{RR-122124} \\Bigg) \\bigg) \\Big) \\big) )\\ggg$\n",
    "</DIV>"
   ]
  },
  {
   "cell_type": "markdown",
   "id": "debc1e28-b90e-44d1-8958-35c393ab120c",
   "metadata": {},
   "source": [
    "# $\\text{Colored note boxes in Jupyter Markdown}$"
   ]
  },
  {
   "cell_type": "markdown",
   "id": "46611cdc-473a-4f9a-8ef7-2081f98614f1",
   "metadata": {},
   "source": [
    "Use one of the following `<div>` tags to display text in a colored box.  \n",
    "\n",
    "The color of the box is determined by the alert type that you specify:  "
   ]
  },
  {
   "cell_type": "markdown",
   "id": "076f1b81-46d8-472e-9d5f-c6d0925727e7",
   "metadata": {},
   "source": [
    "- Blue boxes (alert-info)\n",
    "\n",
    "<div class=\"alert alert-block alert-info\">\n",
    "<b>Tip:</b> Use blue boxes (alert-info) for tips and notes. \n",
    "If it’s a note, you don’t have to include the word “Note”.\n",
    "</div>"
   ]
  },
  {
   "cell_type": "markdown",
   "id": "d920c140-1307-4b4c-81e4-3bac612efcec",
   "metadata": {},
   "source": [
    "- Yellow boxes (alert-warning)\n",
    "\n",
    "<div class=\"alert alert-block alert-warning\">\n",
    "<b>Example:</b> Use yellow boxes for examples that are not \n",
    "inside code cells, or use for mathematical formulas if needed.\n",
    "</div>"
   ]
  },
  {
   "cell_type": "markdown",
   "id": "67ea7a9a-24ed-4c1e-8be5-0aa175891fed",
   "metadata": {},
   "source": [
    "- Green boxes (alert-success)\n",
    "\n",
    "<div class=\"alert alert-block alert-success\">\n",
    "<b>Up to you:</b> Use green boxes sparingly, and only for some specific \n",
    "purpose that the other boxes can't cover. For example, if you have a lot \n",
    "of related content to link to, maybe you decide to use green boxes for \n",
    "related links from each section of a notebook.\n",
    "</div>"
   ]
  },
  {
   "cell_type": "markdown",
   "id": "9aee3da8-5c26-4efe-9fa6-c1f8d1ec352c",
   "metadata": {},
   "source": [
    "- Red boxes (alert-danger)\n",
    "\n",
    "<div class=\"alert alert-block alert-danger\">\n",
    "<b>Just don't:</b> In general, avoid the red boxes. These should only be\n",
    "used for actions that might cause data loss or another major issue.\n",
    "</div>"
   ]
  }
 ],
 "metadata": {
  "kernelspec": {
   "display_name": "Python 3 (ipykernel)",
   "language": "python",
   "name": "python3"
  },
  "language_info": {
   "codemirror_mode": {
    "name": "ipython",
    "version": 3
   },
   "file_extension": ".py",
   "mimetype": "text/x-python",
   "name": "python",
   "nbconvert_exporter": "python",
   "pygments_lexer": "ipython3",
   "version": "3.11.5"
  }
 },
 "nbformat": 4,
 "nbformat_minor": 5
}
