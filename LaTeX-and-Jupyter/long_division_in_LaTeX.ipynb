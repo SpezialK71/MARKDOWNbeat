{
 "cells": [
  {
   "cell_type": "markdown",
   "id": "6d63be80-e44a-4dba-a8e0-19a3adff3000",
   "metadata": {},
   "source": []
  },
  {
   "cell_type": "markdown",
   "id": "e6d5839c-4cc3-46f4-958a-fe2f4a6e6f42",
   "metadata": {},
   "source": [
    "This will do the trick, but there's a whole lot going on here that we don't need."
   ]
  },
  {
   "cell_type": "markdown",
   "id": "c0556be2-26a4-472a-833b-2c54591768f3",
   "metadata": {},
   "source": [
    "$$\n",
    "\\require{enclose}\n",
    "\\begin{array}{rll}\n",
    "    125 && \\hbox{(Explanations)} \\\\[-3pt]\n",
    "   4 \\enclose{longdiv}{500}\\kern-.2ex \\\\[-3pt]\n",
    "      \\underline{4\\phantom{00}} && \\hbox{($4 \\times 1 = 4$)} \\\\[-3pt]\n",
    "      10\\phantom{0} && \\hbox{($5 - 4 = 1$)} \\\\[-3pt]\n",
    "      \\underline{\\phantom{0}8\\phantom{0}} && \\hbox{($4 \\times 2 = 8$)} \\\\[-3pt]\n",
    "      \\phantom{0}20 && \\hbox{($10 - 8 = 2$)} \\\\[-3pt]\n",
    "      \\underline{\\phantom{0}20} && \\hbox{($4 \\times 5 = 20$)} \\\\[-3pt]\n",
    "      \\phantom{00}0\n",
    "  \\end{array}\n",
    "$$\n"
   ]
  },
  {
   "cell_type": "markdown",
   "id": "856d145c-db74-424d-95ce-0285a8902a31",
   "metadata": {},
   "source": [
    "Lets break down and simplify this for reuse."
   ]
  },
  {
   "cell_type": "markdown",
   "id": "700b6e47-8a3a-49f5-acfe-a08b0d7dac43",
   "metadata": {},
   "source": [
    "$$\n",
    "\\require{enclose}\n",
    "\\begin{array}{rll}\n",
    "    2 &&  \\\\[-3pt]\n",
    "   8 \\enclose{longdiv}{16}\\kern-.2ex \n",
    "\\end{array}\n",
    "$$\n"
   ]
  },
  {
   "cell_type": "code",
   "execution_count": null,
   "id": "80e8a813-3279-44ab-ad0d-0d4695fa60c0",
   "metadata": {},
   "outputs": [],
   "source": []
  }
 ],
 "metadata": {
  "kernelspec": {
   "display_name": "Python 3 (ipykernel)",
   "language": "python",
   "name": "python3"
  },
  "language_info": {
   "codemirror_mode": {
    "name": "ipython",
    "version": 3
   },
   "file_extension": ".py",
   "mimetype": "text/x-python",
   "name": "python",
   "nbconvert_exporter": "python",
   "pygments_lexer": "ipython3",
   "version": "3.11.5"
  }
 },
 "nbformat": 4,
 "nbformat_minor": 5
}
