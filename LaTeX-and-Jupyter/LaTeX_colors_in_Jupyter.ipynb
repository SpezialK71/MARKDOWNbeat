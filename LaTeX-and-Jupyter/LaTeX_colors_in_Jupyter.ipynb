{
 "cells": [
  {
   "cell_type": "markdown",
   "id": "8047abdb-69e5-4876-83b7-9ea0cca30cb6",
   "metadata": {},
   "source": [
    "<DIV align=\"right\">\n",
    " $\\tiny\\lll( \\big( \\Big( \\bigg( \\Bigg( \\Bbbk\\mathsf{RR-010324} \\Bigg) \\bigg) \\Big) \\big) )\\ggg$\n",
    "</DIV>"
   ]
  },
  {
   "cell_type": "markdown",
   "id": "5697c889-e6da-41b0-8639-e7a3bd36f86b",
   "metadata": {},
   "source": [
    "# LaTeX_colors_in_Jupyter"
   ]
  },
  {
   "cell_type": "markdown",
   "id": "8f4dbb28-fd75-49e3-9d56-e15dcee773ad",
   "metadata": {},
   "source": [
    "The default predefined colors in $\\LaTeX$ are:  \n",
    "\n",
    "red$\\fcolorbox{black}{red}{}$, green$\\fcolorbox{black}{green}{}$, blue$\\fcolorbox{black}{blue}{}$, cyan$\\fcolorbox{black}{cyan}{}$, magenta$\\fcolorbox{black}{magenta}{}$, yellow$\\fcolorbox{black}{yellow}{}$, black$\\fcolorbox{gray}{black}{}$,<br> gray$\\fcolorbox{black}{gray}{}$, white$\\fcolorbox{black}{white}{}$, darkgray$\\fcolorbox{black}{darkgray}{}$, lightgray$\\fcolorbox{black}{lightgray}{}$, brown$\\fcolorbox{black}{brown}{}$, lime$\\fcolorbox{black}{lime}{}$, olive$\\fcolorbox{black}{olive}{}$,<br> orange$\\fcolorbox{black}{orange}{}$, pink$\\fcolorbox{black}{pink}{}$, purple$\\fcolorbox{black}{purple}{}$, teal$\\fcolorbox{black}{teal}{}$, and violet$\\fcolorbox{black}{violet}{}$.  \n",
    "\n"
   ]
  },
  {
   "cell_type": "markdown",
   "id": "6d78b432-b0ee-470c-8465-f0e950067e89",
   "metadata": {},
   "source": [
    "**Color in Markdown cells using LaTeX**  \n",
    "\n",
    "    $\\color{purple}{\\text{this is written in purple.}}$"
   ]
  },
  {
   "cell_type": "markdown",
   "id": "7289e05e-bc3c-41bc-ad4f-ed080de7e707",
   "metadata": {},
   "source": [
    "$\\color{purple}{\\text{this is written in purple.}}$"
   ]
  },
  {
   "cell_type": "markdown",
   "id": "670ef185-01e1-4f61-b7c0-42aa1484a8eb",
   "metadata": {},
   "source": [
    "**Make a colored box using LaTeX**  \n",
    "\n",
    "    $\\fcolorbox{yellow}{black}{I am a Box}$"
   ]
  },
  {
   "cell_type": "markdown",
   "id": "da2d907b-7989-4ed0-af9a-464f50f7d095",
   "metadata": {},
   "source": [
    "$\\fcolorbox{yellow}{black}{I am a Box}$"
   ]
  }
 ],
 "metadata": {
  "kernelspec": {
   "display_name": "Python 3 (ipykernel)",
   "language": "python",
   "name": "python3"
  },
  "language_info": {
   "codemirror_mode": {
    "name": "ipython",
    "version": 3
   },
   "file_extension": ".py",
   "mimetype": "text/x-python",
   "name": "python",
   "nbconvert_exporter": "python",
   "pygments_lexer": "ipython3",
   "version": "3.11.5"
  }
 },
 "nbformat": 4,
 "nbformat_minor": 5
}
